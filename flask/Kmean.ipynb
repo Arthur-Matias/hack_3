{
 "cells": [
  {
   "cell_type": "markdown",
   "metadata": {
    "colab_type": "text",
    "id": "GjIJJih9Yjxx"
   },
   "source": [
    "## Importação das bibliotecas"
   ]
  },
  {
   "cell_type": "code",
   "execution_count": 1,
   "metadata": {
    "colab": {},
    "colab_type": "code",
    "id": "fMPRVkR02oTd"
   },
   "outputs": [],
   "source": [
    "import numpy as np\n",
    "import pandas as pd\n",
    "import matplotlib.pyplot as plt\n",
    "import matplotlib.cm as cm\n",
    "from sklearn.preprocessing import MinMaxScaler\n",
    "from sklearn.cluster import KMeans\n",
    "from sklearn.decomposition import PCA\n",
    "from sklearn.metrics import silhouette_samples, silhouette_score\n",
    "from sklearn.ensemble import RandomForestClassifier\n",
    "from collections import Counter"
   ]
  },
  {
   "cell_type": "markdown",
   "metadata": {
    "colab_type": "text",
    "id": "1mvMMrelYjx2"
   },
   "source": [
    "## Carregamento da base de dados"
   ]
  },
  {
   "cell_type": "code",
   "execution_count": 2,
   "metadata": {
    "colab": {},
    "colab_type": "code",
    "id": "5mWro2qQ3fpF"
   },
   "outputs": [],
   "source": [
    "df = pd.read_excel('Tabela IA.xlsx')"
   ]
  },
  {
   "cell_type": "code",
   "execution_count": 3,
   "metadata": {
    "colab": {
     "base_uri": "https://localhost:8080/",
     "height": 34
    },
    "colab_type": "code",
    "id": "i1jQyofI33t7",
    "outputId": "c51f0b97-1ee7-4e5c-823f-192b99e6c649"
   },
   "outputs": [
    {
     "data": {
      "text/plain": [
       "(39, 4)"
      ]
     },
     "execution_count": 3,
     "metadata": {},
     "output_type": "execute_result"
    }
   ],
   "source": [
    "df.shape"
   ]
  },
  {
   "cell_type": "code",
   "execution_count": 4,
   "metadata": {
    "colab": {
     "base_uri": "https://localhost:8080/",
     "height": 85
    },
    "colab_type": "code",
    "id": "pKXfcvrI4SVe",
    "outputId": "00cb705d-900c-41ea-8ffd-0e5cc0e0eaf4"
   },
   "outputs": [
    {
     "name": "stdout",
     "output_type": "stream",
     "text": [
      "0 Idade\n",
      "1 Sexo\n",
      "2 Produto\n",
      "3 Acompanhamento\n"
     ]
    }
   ],
   "source": [
    "for i, column in enumerate(df.columns):\n",
    "  print(i, column)"
   ]
  },
  {
   "cell_type": "code",
   "execution_count": 5,
   "metadata": {
    "colab": {
     "base_uri": "https://localhost:8080/",
     "height": 204
    },
    "colab_type": "code",
    "id": "tklNSMvx5Tdc",
    "outputId": "61ce793a-ac21-439b-80c2-fef98c805b01"
   },
   "outputs": [
    {
     "data": {
      "text/html": [
       "<div>\n",
       "<style scoped>\n",
       "    .dataframe tbody tr th:only-of-type {\n",
       "        vertical-align: middle;\n",
       "    }\n",
       "\n",
       "    .dataframe tbody tr th {\n",
       "        vertical-align: top;\n",
       "    }\n",
       "\n",
       "    .dataframe thead th {\n",
       "        text-align: right;\n",
       "    }\n",
       "</style>\n",
       "<table border=\"1\" class=\"dataframe\">\n",
       "  <thead>\n",
       "    <tr style=\"text-align: right;\">\n",
       "      <th></th>\n",
       "      <th>Idade</th>\n",
       "      <th>Sexo</th>\n",
       "      <th>Produto</th>\n",
       "      <th>Acompanhamento</th>\n",
       "    </tr>\n",
       "  </thead>\n",
       "  <tbody>\n",
       "    <tr>\n",
       "      <th>0</th>\n",
       "      <td>22 anos</td>\n",
       "      <td>Feminino</td>\n",
       "      <td>Pizza</td>\n",
       "      <td>Baré</td>\n",
       "    </tr>\n",
       "    <tr>\n",
       "      <th>1</th>\n",
       "      <td>32 anos</td>\n",
       "      <td>Feminino</td>\n",
       "      <td>Hambúrguer</td>\n",
       "      <td>Coca-cola</td>\n",
       "    </tr>\n",
       "    <tr>\n",
       "      <th>2</th>\n",
       "      <td>18 anos</td>\n",
       "      <td>Masculino</td>\n",
       "      <td>Pastel</td>\n",
       "      <td>São Geraldo</td>\n",
       "    </tr>\n",
       "    <tr>\n",
       "      <th>3</th>\n",
       "      <td>22 anos</td>\n",
       "      <td>Feminino</td>\n",
       "      <td>Pizza</td>\n",
       "      <td>Baré</td>\n",
       "    </tr>\n",
       "    <tr>\n",
       "      <th>4</th>\n",
       "      <td>32 anos</td>\n",
       "      <td>Feminino</td>\n",
       "      <td>Hambúrguer</td>\n",
       "      <td>São Geraldo</td>\n",
       "    </tr>\n",
       "  </tbody>\n",
       "</table>\n",
       "</div>"
      ],
      "text/plain": [
       "      Idade       Sexo      Produto Acompanhamento\n",
       "0   22 anos  Feminino         Pizza           Baré\n",
       "1  32 anos    Feminino  Hambúrguer       Coca-cola\n",
       "2   18 anos  Masculino       Pastel    São Geraldo\n",
       "3   22 anos   Feminino        Pizza           Baré\n",
       "4   32 anos   Feminino   Hambúrguer    São Geraldo"
      ]
     },
     "execution_count": 5,
     "metadata": {},
     "output_type": "execute_result"
    }
   ],
   "source": [
    "df.head()"
   ]
  },
  {
   "cell_type": "code",
   "execution_count": 6,
   "metadata": {
    "colab": {
     "base_uri": "https://localhost:8080/",
     "height": 85
    },
    "colab_type": "code",
    "id": "soZ1GunV5Zmp",
    "outputId": "869a0ab8-09d0-4c16-ef07-d897fc4ac75e"
   },
   "outputs": [
    {
     "name": "stdout",
     "output_type": "stream",
     "text": [
      "0 Idade\n",
      "1 Sexo\n",
      "2 Produto\n",
      "3 Acompanhamento\n"
     ]
    }
   ],
   "source": [
    "for i, column in enumerate(df.columns):\n",
    "  print(i, column)"
   ]
  },
  {
   "cell_type": "markdown",
   "metadata": {
    "colab_type": "text",
    "id": "auV6x_zyYjyC"
   },
   "source": [
    "### Valores faltantes"
   ]
  },
  {
   "cell_type": "code",
   "execution_count": 7,
   "metadata": {
    "colab": {
     "base_uri": "https://localhost:8080/",
     "height": 102
    },
    "colab_type": "code",
    "id": "9rQV0o_W51al",
    "outputId": "44573343-6d97-4fd8-817e-97c833b4f860"
   },
   "outputs": [
    {
     "data": {
      "text/plain": [
       "Idade             0\n",
       "Sexo              0\n",
       "Produto           0\n",
       "Acompanhamento    0\n",
       "dtype: int64"
      ]
     },
     "execution_count": 7,
     "metadata": {},
     "output_type": "execute_result"
    }
   ],
   "source": [
    "df.isna().sum(axis = 0)"
   ]
  },
  {
   "cell_type": "code",
   "execution_count": 8,
   "metadata": {
    "colab": {
     "base_uri": "https://localhost:8080/",
     "height": 102
    },
    "colab_type": "code",
    "id": "Yik3EKj264vK",
    "outputId": "34c21bd8-7790-410d-8c3e-a52dd9d31765"
   },
   "outputs": [
    {
     "data": {
      "text/plain": [
       "Idade             0\n",
       "Sexo              0\n",
       "Produto           0\n",
       "Acompanhamento    0\n",
       "dtype: int64"
      ]
     },
     "execution_count": 8,
     "metadata": {},
     "output_type": "execute_result"
    }
   ],
   "source": [
    "df.isna().sum(axis = 0)"
   ]
  },
  {
   "cell_type": "markdown",
   "metadata": {
    "colab_type": "text",
    "id": "tPTiRTXyYjyL"
   },
   "source": [
    "## Inspecionando as estatísticas"
   ]
  },
  {
   "cell_type": "code",
   "execution_count": 9,
   "metadata": {
    "colab": {},
    "colab_type": "code",
    "id": "rzuTAgTHFCAs"
   },
   "outputs": [],
   "source": [
    "def hist_boxplot(feature):\n",
    "  fig, ax = plt.subplots(1, 2)\n",
    "  ax[0].hist(feature)\n",
    "  ax[1].boxplot(feature)"
   ]
  },
  {
   "cell_type": "code",
   "execution_count": 10,
   "metadata": {
    "colab": {
     "base_uri": "https://localhost:8080/",
     "height": 173
    },
    "colab_type": "code",
    "id": "2Is6DuO2FQ8z",
    "outputId": "ecb44aff-2307-48ec-93cf-52b0ec83d069"
   },
   "outputs": [
    {
     "data": {
      "text/html": [
       "<div>\n",
       "<style scoped>\n",
       "    .dataframe tbody tr th:only-of-type {\n",
       "        vertical-align: middle;\n",
       "    }\n",
       "\n",
       "    .dataframe tbody tr th {\n",
       "        vertical-align: top;\n",
       "    }\n",
       "\n",
       "    .dataframe thead th {\n",
       "        text-align: right;\n",
       "    }\n",
       "</style>\n",
       "<table border=\"1\" class=\"dataframe\">\n",
       "  <thead>\n",
       "    <tr style=\"text-align: right;\">\n",
       "      <th></th>\n",
       "      <th>Idade</th>\n",
       "      <th>Sexo</th>\n",
       "      <th>Produto</th>\n",
       "      <th>Acompanhamento</th>\n",
       "    </tr>\n",
       "  </thead>\n",
       "  <tbody>\n",
       "    <tr>\n",
       "      <th>count</th>\n",
       "      <td>39</td>\n",
       "      <td>39</td>\n",
       "      <td>39</td>\n",
       "      <td>39</td>\n",
       "    </tr>\n",
       "    <tr>\n",
       "      <th>unique</th>\n",
       "      <td>6</td>\n",
       "      <td>4</td>\n",
       "      <td>5</td>\n",
       "      <td>3</td>\n",
       "    </tr>\n",
       "    <tr>\n",
       "      <th>top</th>\n",
       "      <td>18 anos</td>\n",
       "      <td>Feminino</td>\n",
       "      <td>Hambúrguer</td>\n",
       "      <td>São Geraldo</td>\n",
       "    </tr>\n",
       "    <tr>\n",
       "      <th>freq</th>\n",
       "      <td>13</td>\n",
       "      <td>16</td>\n",
       "      <td>13</td>\n",
       "      <td>14</td>\n",
       "    </tr>\n",
       "  </tbody>\n",
       "</table>\n",
       "</div>"
      ],
      "text/plain": [
       "          Idade      Sexo      Produto Acompanhamento\n",
       "count        39        39           39             39\n",
       "unique        6         4            5              3\n",
       "top     18 anos  Feminino  Hambúrguer     São Geraldo\n",
       "freq         13        16           13             14"
      ]
     },
     "execution_count": 10,
     "metadata": {},
     "output_type": "execute_result"
    }
   ],
   "source": [
    "df_describe = df.describe()\n",
    "df_describe"
   ]
  },
  {
   "cell_type": "markdown",
   "metadata": {
    "colab_type": "text",
    "id": "IlC_SmVbn1QE"
   },
   "source": [
    "A informação acima nos mostra que quanto mais disperso, melhor para se criar uma categorização\n"
   ]
  },
  {
   "cell_type": "markdown",
   "metadata": {
    "colab_type": "text",
    "id": "paDvVmoacF_Q"
   },
   "source": [
    "## Tratamento dos dados para o Hack"
   ]
  },
  {
   "cell_type": "code",
   "execution_count": 11,
   "metadata": {
    "colab": {
     "base_uri": "https://localhost:8080/",
     "height": 102
    },
    "colab_type": "code",
    "id": "MAFh6ll4pHj0",
    "outputId": "56db93de-ff6d-45bd-8159-f8faa7902de6"
   },
   "outputs": [
    {
     "data": {
      "text/plain": [
       "Idade             object\n",
       "Sexo              object\n",
       "Produto           object\n",
       "Acompanhamento    object\n",
       "dtype: object"
      ]
     },
     "execution_count": 11,
     "metadata": {},
     "output_type": "execute_result"
    }
   ],
   "source": [
    "df.dtypes"
   ]
  },
  {
   "cell_type": "code",
   "execution_count": 12,
   "metadata": {
    "colab": {
     "base_uri": "https://localhost:8080/",
     "height": 102
    },
    "colab_type": "code",
    "id": "7v1ODP96pSrD",
    "outputId": "60bed30b-1e41-49f5-859a-3e2ea0074407"
   },
   "outputs": [
    {
     "data": {
      "text/plain": [
       "Idade             object\n",
       "Sexo              object\n",
       "Produto           object\n",
       "Acompanhamento    object\n",
       "dtype: object"
      ]
     },
     "execution_count": 12,
     "metadata": {},
     "output_type": "execute_result"
    }
   ],
   "source": [
    "df.dtypes[(x not in ['int64', 'float64'] for x in df.dtypes)]"
   ]
  },
  {
   "cell_type": "markdown",
   "metadata": {
    "colab_type": "text",
    "id": "_JoOMOSMYjyr"
   },
   "source": [
    "## Preparação da base de dados para agrupamento"
   ]
  },
  {
   "cell_type": "code",
   "execution_count": 13,
   "metadata": {
    "colab": {
     "base_uri": "https://localhost:8080/",
     "height": 204
    },
    "colab_type": "code",
    "id": "tcZ3Duc6uFTj",
    "outputId": "43de2753-fcbc-409f-e08d-cb5033a1f82b"
   },
   "outputs": [
    {
     "data": {
      "text/html": [
       "<div>\n",
       "<style scoped>\n",
       "    .dataframe tbody tr th:only-of-type {\n",
       "        vertical-align: middle;\n",
       "    }\n",
       "\n",
       "    .dataframe tbody tr th {\n",
       "        vertical-align: top;\n",
       "    }\n",
       "\n",
       "    .dataframe thead th {\n",
       "        text-align: right;\n",
       "    }\n",
       "</style>\n",
       "<table border=\"1\" class=\"dataframe\">\n",
       "  <thead>\n",
       "    <tr style=\"text-align: right;\">\n",
       "      <th></th>\n",
       "      <th>Idade</th>\n",
       "      <th>Sexo</th>\n",
       "      <th>Produto</th>\n",
       "      <th>Acompanhamento</th>\n",
       "    </tr>\n",
       "  </thead>\n",
       "  <tbody>\n",
       "    <tr>\n",
       "      <th>0</th>\n",
       "      <td>22 anos</td>\n",
       "      <td>Feminino</td>\n",
       "      <td>Pizza</td>\n",
       "      <td>Baré</td>\n",
       "    </tr>\n",
       "    <tr>\n",
       "      <th>1</th>\n",
       "      <td>32 anos</td>\n",
       "      <td>Feminino</td>\n",
       "      <td>Hambúrguer</td>\n",
       "      <td>Coca-cola</td>\n",
       "    </tr>\n",
       "    <tr>\n",
       "      <th>2</th>\n",
       "      <td>18 anos</td>\n",
       "      <td>Masculino</td>\n",
       "      <td>Pastel</td>\n",
       "      <td>São Geraldo</td>\n",
       "    </tr>\n",
       "    <tr>\n",
       "      <th>3</th>\n",
       "      <td>22 anos</td>\n",
       "      <td>Feminino</td>\n",
       "      <td>Pizza</td>\n",
       "      <td>Baré</td>\n",
       "    </tr>\n",
       "    <tr>\n",
       "      <th>4</th>\n",
       "      <td>32 anos</td>\n",
       "      <td>Feminino</td>\n",
       "      <td>Hambúrguer</td>\n",
       "      <td>São Geraldo</td>\n",
       "    </tr>\n",
       "  </tbody>\n",
       "</table>\n",
       "</div>"
      ],
      "text/plain": [
       "      Idade       Sexo      Produto Acompanhamento\n",
       "0   22 anos  Feminino         Pizza           Baré\n",
       "1  32 anos    Feminino  Hambúrguer       Coca-cola\n",
       "2   18 anos  Masculino       Pastel    São Geraldo\n",
       "3   22 anos   Feminino        Pizza           Baré\n",
       "4   32 anos   Feminino   Hambúrguer    São Geraldo"
      ]
     },
     "execution_count": 13,
     "metadata": {},
     "output_type": "execute_result"
    }
   ],
   "source": [
    "df.head()"
   ]
  },
  {
   "cell_type": "code",
   "execution_count": 14,
   "metadata": {
    "colab": {},
    "colab_type": "code",
    "id": "j6Veg7SapXJh"
   },
   "outputs": [],
   "source": [
    "df_factorized = df.apply(lambda x : pd.factorize(x)[0])\n",
    "df_label = df.apply(lambda x : tuple(pd.factorize(x)[1]))"
   ]
  },
  {
   "cell_type": "markdown",
   "metadata": {
    "colab_type": "text",
    "id": "vkbrLCn_Yjyv"
   },
   "source": [
    "## Agrupamento com K-Means"
   ]
  },
  {
   "cell_type": "markdown",
   "metadata": {
    "colab_type": "text",
    "id": "woXj4-P9fWm4"
   },
   "source": [
    "### Escolha do número de clusters com WCSS"
   ]
  },
  {
   "cell_type": "code",
   "execution_count": 15,
   "metadata": {
    "colab": {},
    "colab_type": "code",
    "id": "Jk3KG5uKvSWW"
   },
   "outputs": [],
   "source": [
    "wcss = []\n",
    "K = range(1, 15)\n",
    "for k in K:\n",
    "  km = KMeans(n_clusters = k)\n",
    "  km = km.fit(df_factorized)\n",
    "  wcss.append(km.inertia_)"
   ]
  },
  {
   "cell_type": "code",
   "execution_count": 16,
   "metadata": {
    "colab": {
     "base_uri": "https://localhost:8080/",
     "height": 255
    },
    "colab_type": "code",
    "id": "26RLmhqlvwo9",
    "outputId": "3ba8cdd0-ac4d-4bf5-c28d-950c95cb5462"
   },
   "outputs": [
    {
     "data": {
      "text/plain": [
       "[157.8461538461539,\n",
       " 108.03804347826087,\n",
       " 85.89484126984128,\n",
       " 69.2012987012987,\n",
       " 57.69444444444444,\n",
       " 49.04761904761906,\n",
       " 40.77500000000002,\n",
       " 34.247619047619054,\n",
       " 31.916666666666668,\n",
       " 28.03333333333333,\n",
       " 25.75238095238095,\n",
       " 23.45,\n",
       " 20.95,\n",
       " 19.316666666666663]"
      ]
     },
     "execution_count": 16,
     "metadata": {},
     "output_type": "execute_result"
    }
   ],
   "source": [
    "wcss"
   ]
  },
  {
   "cell_type": "code",
   "execution_count": 17,
   "metadata": {
    "colab": {
     "base_uri": "https://localhost:8080/",
     "height": 34
    },
    "colab_type": "code",
    "id": "FaSus4kBuxQG",
    "outputId": "11e0bef1-772c-4db4-a3fd-bee467cc7114"
   },
   "outputs": [
    {
     "name": "stdout",
     "output_type": "stream",
     "text": [
      "8 Clusters para se ter\n"
     ]
    }
   ],
   "source": [
    "def optimal_number_of_clusters(wcss):\n",
    "    from numpy import sqrt\n",
    "    x1, y1 = 2, wcss[0]\n",
    "    x2, y2 = 20, wcss[len(wcss)-1]\n",
    "\n",
    "    distances = []\n",
    "    for i in range(len(wcss)):\n",
    "        x0 = i+2\n",
    "        y0 = wcss[i]\n",
    "        numerator = abs((y2-y1)*x0 - (x2-x1)*y0 + x2*y1 - y2*x1)\n",
    "        denominator = sqrt((y2 - y1)**2 + (x2 - x1)**2)\n",
    "        distances.append(numerator/denominator)\n",
    "    \n",
    "    return distances.index(max(distances)) + 2\n",
    "\n",
    "n_clusters_obtained = optimal_number_of_clusters(wcss)\n",
    "print(n_clusters_obtained,\"Clusters para se ter\")"
   ]
  },
  {
   "cell_type": "code",
   "execution_count": 18,
   "metadata": {
    "colab": {
     "base_uri": "https://localhost:8080/",
     "height": 295
    },
    "colab_type": "code",
    "id": "FxmmAJkTv3XT",
    "outputId": "740111d7-c1fb-4dff-bfe5-4a85589e171f"
   },
   "outputs": [
    {
     "data": {
      "image/png": "[encoded data removed]",
      "text/plain": [
       "<Figure size 432x288 with 1 Axes>"
      ]
     },
     "metadata": {
      "needs_background": "light"
     },
     "output_type": "display_data"
    }
   ],
   "source": [
    "plt.plot(K, wcss, 'bx-')\n",
    "plt.xlabel('k')\n",
    "plt.ylabel('WCSS')\n",
    "plt.title('Método de Elmbow para otimização do valor k de classificação');"
   ]
  },
  {
   "cell_type": "markdown",
   "metadata": {
    "colab_type": "text",
    "id": "_qhxFBStfcri"
   },
   "source": [
    "### Redução de dimensionalidade com PCA (Principal Component Analisys)"
   ]
  },
  {
   "cell_type": "code",
   "execution_count": 19,
   "metadata": {
    "colab": {},
    "colab_type": "code",
    "id": "DmFl1Lerwpnu"
   },
   "outputs": [],
   "source": [
    "pca = PCA(n_components=2)\n",
    "df_pca = pca.fit_transform(df_factorized)"
   ]
  },
  {
   "cell_type": "code",
   "execution_count": 20,
   "metadata": {
    "colab": {
     "base_uri": "https://localhost:8080/",
     "height": 680
    },
    "colab_type": "code",
    "id": "Qk2CDYuvw7Xd",
    "outputId": "01568144-a3f3-40f4-b540-351c6304e7f8"
   },
   "outputs": [
    {
     "data": {
      "text/plain": [
       "array([[-1.88177404,  1.70121741],\n",
       "       [-0.70702238,  0.16524636],\n",
       "       [ 0.46772928, -1.3707247 ],\n",
       "       [-1.7749993 ,  1.24752312],\n",
       "       [ 1.49784422, -1.52263137],\n",
       "       [ 0.37904457, -0.15331839],\n",
       "       [ 0.25930907, -0.34295799],\n",
       "       [ 1.09396454,  1.17623594],\n",
       "       [ 0.36095454, -0.91703041],\n",
       "       [-0.63810962,  0.64192216],\n",
       "       [ 2.42631369, -1.10046562],\n",
       "       [ 2.14216951,  1.78804128],\n",
       "       [-0.37373739, -0.55250263],\n",
       "       [-1.6484526 , -0.90025328],\n",
       "       [ 0.22144709,  0.58741211],\n",
       "       [-1.49085512, -1.64098378],\n",
       "       [ 0.16549508,  0.75407019],\n",
       "       [ 0.15253432,  0.1107363 ],\n",
       "       [-1.88177404,  1.70121741],\n",
       "       [ 1.69162176, -0.73593784],\n",
       "       [-1.5287171 , -0.71061368],\n",
       "       [ 0.15253432,  0.1107363 ],\n",
       "       [ 3.38583394,  0.72874603],\n",
       "       [ 1.07587452,  0.41252392],\n",
       "       [-1.84391206,  0.77084732],\n",
       "       [-1.49085512, -1.64098378],\n",
       "       [ 1.40915951, -0.30522506],\n",
       "       [-0.56238566, -1.21881803],\n",
       "       [ 0.0078976 ,  1.49480069],\n",
       "       [-1.61740182,  0.50679262],\n",
       "       [-0.60024764, -0.28844793],\n",
       "       [ 0.49878007,  0.0363212 ],\n",
       "       [ 0.18358511,  1.5177822 ],\n",
       "       [-1.6484526 , -0.90025328],\n",
       "       [ 1.16287731,  1.65291174],\n",
       "       [ 0.27226982,  0.3003759 ],\n",
       "       [ 0.37904457, -0.15331839],\n",
       "       [-1.59762987, -1.18728949],\n",
       "       [ 1.90004197, -1.76370455]])"
      ]
     },
     "execution_count": 20,
     "metadata": {},
     "output_type": "execute_result"
    }
   ],
   "source": [
    "df_pca"
   ]
  },
  {
   "cell_type": "code",
   "execution_count": 21,
   "metadata": {
    "colab": {
     "base_uri": "https://localhost:8080/",
     "height": 34
    },
    "colab_type": "code",
    "id": "KYYjG5CtxAMp",
    "outputId": "40b6caba-4955-4fff-e34c-5305f9279660"
   },
   "outputs": [
    {
     "data": {
      "text/plain": [
       "(39, 4)"
      ]
     },
     "execution_count": 21,
     "metadata": {},
     "output_type": "execute_result"
    }
   ],
   "source": [
    "df_factorized.shape"
   ]
  },
  {
   "cell_type": "code",
   "execution_count": 22,
   "metadata": {
    "colab": {
     "base_uri": "https://localhost:8080/",
     "height": 204
    },
    "colab_type": "code",
    "id": "wwAA5h8-qg18",
    "outputId": "b9d290b5-066e-44d5-f23f-3dcb720f95bf"
   },
   "outputs": [
    {
     "data": {
      "text/html": [
       "<div>\n",
       "<style scoped>\n",
       "    .dataframe tbody tr th:only-of-type {\n",
       "        vertical-align: middle;\n",
       "    }\n",
       "\n",
       "    .dataframe tbody tr th {\n",
       "        vertical-align: top;\n",
       "    }\n",
       "\n",
       "    .dataframe thead th {\n",
       "        text-align: right;\n",
       "    }\n",
       "</style>\n",
       "<table border=\"1\" class=\"dataframe\">\n",
       "  <thead>\n",
       "    <tr style=\"text-align: right;\">\n",
       "      <th></th>\n",
       "      <th>Idade</th>\n",
       "      <th>Sexo</th>\n",
       "      <th>Produto</th>\n",
       "      <th>Acompanhamento</th>\n",
       "    </tr>\n",
       "  </thead>\n",
       "  <tbody>\n",
       "    <tr>\n",
       "      <th>0</th>\n",
       "      <td>0</td>\n",
       "      <td>0</td>\n",
       "      <td>0</td>\n",
       "      <td>0</td>\n",
       "    </tr>\n",
       "    <tr>\n",
       "      <th>1</th>\n",
       "      <td>1</td>\n",
       "      <td>1</td>\n",
       "      <td>1</td>\n",
       "      <td>1</td>\n",
       "    </tr>\n",
       "    <tr>\n",
       "      <th>2</th>\n",
       "      <td>2</td>\n",
       "      <td>2</td>\n",
       "      <td>2</td>\n",
       "      <td>2</td>\n",
       "    </tr>\n",
       "    <tr>\n",
       "      <th>3</th>\n",
       "      <td>0</td>\n",
       "      <td>1</td>\n",
       "      <td>0</td>\n",
       "      <td>0</td>\n",
       "    </tr>\n",
       "    <tr>\n",
       "      <th>4</th>\n",
       "      <td>3</td>\n",
       "      <td>1</td>\n",
       "      <td>3</td>\n",
       "      <td>2</td>\n",
       "    </tr>\n",
       "  </tbody>\n",
       "</table>\n",
       "</div>"
      ],
      "text/plain": [
       "   Idade  Sexo  Produto  Acompanhamento\n",
       "0      0     0        0               0\n",
       "1      1     1        1               1\n",
       "2      2     2        2               2\n",
       "3      0     1        0               0\n",
       "4      3     1        3               2"
      ]
     },
     "execution_count": 22,
     "metadata": {},
     "output_type": "execute_result"
    }
   ],
   "source": [
    "df_factorized.head()"
   ]
  },
  {
   "cell_type": "code",
   "execution_count": 23,
   "metadata": {
    "colab": {
     "base_uri": "https://localhost:8080/",
     "height": 34
    },
    "colab_type": "code",
    "id": "lKnvxHKjxETz",
    "outputId": "f877226a-066d-4f16-ad6a-e2e5353a64d3"
   },
   "outputs": [
    {
     "data": {
      "text/plain": [
       "(39, 2)"
      ]
     },
     "execution_count": 23,
     "metadata": {},
     "output_type": "execute_result"
    }
   ],
   "source": [
    "df_pca.shape"
   ]
  },
  {
   "cell_type": "code",
   "execution_count": 24,
   "metadata": {
    "colab": {
     "base_uri": "https://localhost:8080/",
     "height": 34
    },
    "colab_type": "code",
    "id": "z-hovSZLxHwY",
    "outputId": "cded6842-5be6-4354-edb2-ce1b1829d78e"
   },
   "outputs": [
    {
     "data": {
      "text/plain": [
       "array([0.44519415, 0.27350254])"
      ]
     },
     "execution_count": 24,
     "metadata": {},
     "output_type": "execute_result"
    }
   ],
   "source": [
    "pca.explained_variance_ratio_"
   ]
  },
  {
   "cell_type": "code",
   "execution_count": 25,
   "metadata": {
    "colab": {},
    "colab_type": "code",
    "id": "B1V_53DmxQYz"
   },
   "outputs": [
    {
     "data": {
      "text/plain": [
       "[44.5, 27.4]"
      ]
     },
     "execution_count": 25,
     "metadata": {},
     "output_type": "execute_result"
    }
   ],
   "source": [
    "exp_var = [round(i, 1) for i in pca.explained_variance_ratio_ * 100]\n",
    "exp_var"
   ]
  },
  {
   "cell_type": "markdown",
   "metadata": {
    "colab_type": "text",
    "id": "EJZgQ3qUGHLw"
   },
   "source": [
    "- Leva em consideração a coesão e a separação\n",
    "- Coesão: medida de distância de um ponto para todos os outros pontos do mesmo grupo\n",
    "- Separação: medida de distância de um ponto com os pontos dos outros clusters\n",
    "- O coeficiente está no intervalo de [-1, 1]\n",
    "- O valor -1 indica que o cluster está ruim (registros em grupos \"errados\")\n",
    "- O valor 0 indica \"indiferença\" (em cima da linha de decisão, um cluster ao lado do outro)\n",
    "- O valor 1 indica que os cluster estão bem distantes"
   ]
  },
  {
   "cell_type": "markdown",
   "metadata": {
    "colab_type": "text",
    "id": "YYha3_pXYjy4"
   },
   "source": [
    "Código baseado na documentação: https://scikit-learn.org/stable/auto_examples/cluster/plot_kmeans_silhouette_analysis.html"
   ]
  },
  {
   "cell_type": "markdown",
   "metadata": {
    "colab_type": "text",
    "id": "OgJk8sjWhzeS"
   },
   "source": [
    "### Aplicação do k-means"
   ]
  },
  {
   "cell_type": "code",
   "execution_count": 26,
   "metadata": {},
   "outputs": [
    {
     "data": {
      "text/html": [
       "<div>\n",
       "<style scoped>\n",
       "    .dataframe tbody tr th:only-of-type {\n",
       "        vertical-align: middle;\n",
       "    }\n",
       "\n",
       "    .dataframe tbody tr th {\n",
       "        vertical-align: top;\n",
       "    }\n",
       "\n",
       "    .dataframe thead th {\n",
       "        text-align: right;\n",
       "    }\n",
       "</style>\n",
       "<table border=\"1\" class=\"dataframe\">\n",
       "  <thead>\n",
       "    <tr style=\"text-align: right;\">\n",
       "      <th></th>\n",
       "      <th>Idade</th>\n",
       "      <th>Sexo</th>\n",
       "      <th>Produto</th>\n",
       "    </tr>\n",
       "  </thead>\n",
       "  <tbody>\n",
       "    <tr>\n",
       "      <th>0</th>\n",
       "      <td>0</td>\n",
       "      <td>0</td>\n",
       "      <td>0</td>\n",
       "    </tr>\n",
       "    <tr>\n",
       "      <th>1</th>\n",
       "      <td>1</td>\n",
       "      <td>1</td>\n",
       "      <td>1</td>\n",
       "    </tr>\n",
       "    <tr>\n",
       "      <th>2</th>\n",
       "      <td>2</td>\n",
       "      <td>2</td>\n",
       "      <td>2</td>\n",
       "    </tr>\n",
       "    <tr>\n",
       "      <th>3</th>\n",
       "      <td>0</td>\n",
       "      <td>1</td>\n",
       "      <td>0</td>\n",
       "    </tr>\n",
       "    <tr>\n",
       "      <th>4</th>\n",
       "      <td>3</td>\n",
       "      <td>1</td>\n",
       "      <td>3</td>\n",
       "    </tr>\n",
       "    <tr>\n",
       "      <th>5</th>\n",
       "      <td>2</td>\n",
       "      <td>2</td>\n",
       "      <td>1</td>\n",
       "    </tr>\n",
       "    <tr>\n",
       "      <th>6</th>\n",
       "      <td>2</td>\n",
       "      <td>3</td>\n",
       "      <td>0</td>\n",
       "    </tr>\n",
       "    <tr>\n",
       "      <th>7</th>\n",
       "      <td>3</td>\n",
       "      <td>1</td>\n",
       "      <td>0</td>\n",
       "    </tr>\n",
       "    <tr>\n",
       "      <th>8</th>\n",
       "      <td>2</td>\n",
       "      <td>1</td>\n",
       "      <td>2</td>\n",
       "    </tr>\n",
       "    <tr>\n",
       "      <th>9</th>\n",
       "      <td>1</td>\n",
       "      <td>1</td>\n",
       "      <td>1</td>\n",
       "    </tr>\n",
       "    <tr>\n",
       "      <th>10</th>\n",
       "      <td>4</td>\n",
       "      <td>2</td>\n",
       "      <td>2</td>\n",
       "    </tr>\n",
       "    <tr>\n",
       "      <th>11</th>\n",
       "      <td>4</td>\n",
       "      <td>1</td>\n",
       "      <td>0</td>\n",
       "    </tr>\n",
       "    <tr>\n",
       "      <th>12</th>\n",
       "      <td>1</td>\n",
       "      <td>2</td>\n",
       "      <td>2</td>\n",
       "    </tr>\n",
       "    <tr>\n",
       "      <th>13</th>\n",
       "      <td>0</td>\n",
       "      <td>2</td>\n",
       "      <td>1</td>\n",
       "    </tr>\n",
       "    <tr>\n",
       "      <th>14</th>\n",
       "      <td>2</td>\n",
       "      <td>2</td>\n",
       "      <td>0</td>\n",
       "    </tr>\n",
       "    <tr>\n",
       "      <th>15</th>\n",
       "      <td>0</td>\n",
       "      <td>2</td>\n",
       "      <td>2</td>\n",
       "    </tr>\n",
       "    <tr>\n",
       "      <th>16</th>\n",
       "      <td>2</td>\n",
       "      <td>0</td>\n",
       "      <td>1</td>\n",
       "    </tr>\n",
       "    <tr>\n",
       "      <th>17</th>\n",
       "      <td>2</td>\n",
       "      <td>2</td>\n",
       "      <td>0</td>\n",
       "    </tr>\n",
       "    <tr>\n",
       "      <th>18</th>\n",
       "      <td>0</td>\n",
       "      <td>0</td>\n",
       "      <td>0</td>\n",
       "    </tr>\n",
       "    <tr>\n",
       "      <th>19</th>\n",
       "      <td>3</td>\n",
       "      <td>3</td>\n",
       "      <td>2</td>\n",
       "    </tr>\n",
       "    <tr>\n",
       "      <th>20</th>\n",
       "      <td>0</td>\n",
       "      <td>1</td>\n",
       "      <td>2</td>\n",
       "    </tr>\n",
       "    <tr>\n",
       "      <th>21</th>\n",
       "      <td>2</td>\n",
       "      <td>2</td>\n",
       "      <td>0</td>\n",
       "    </tr>\n",
       "    <tr>\n",
       "      <th>22</th>\n",
       "      <td>5</td>\n",
       "      <td>2</td>\n",
       "      <td>1</td>\n",
       "    </tr>\n",
       "    <tr>\n",
       "      <th>23</th>\n",
       "      <td>3</td>\n",
       "      <td>0</td>\n",
       "      <td>1</td>\n",
       "    </tr>\n",
       "    <tr>\n",
       "      <th>24</th>\n",
       "      <td>0</td>\n",
       "      <td>1</td>\n",
       "      <td>0</td>\n",
       "    </tr>\n",
       "    <tr>\n",
       "      <th>25</th>\n",
       "      <td>0</td>\n",
       "      <td>2</td>\n",
       "      <td>2</td>\n",
       "    </tr>\n",
       "    <tr>\n",
       "      <th>26</th>\n",
       "      <td>3</td>\n",
       "      <td>1</td>\n",
       "      <td>2</td>\n",
       "    </tr>\n",
       "    <tr>\n",
       "      <th>27</th>\n",
       "      <td>1</td>\n",
       "      <td>3</td>\n",
       "      <td>1</td>\n",
       "    </tr>\n",
       "    <tr>\n",
       "      <th>28</th>\n",
       "      <td>2</td>\n",
       "      <td>0</td>\n",
       "      <td>0</td>\n",
       "    </tr>\n",
       "    <tr>\n",
       "      <th>29</th>\n",
       "      <td>0</td>\n",
       "      <td>1</td>\n",
       "      <td>1</td>\n",
       "    </tr>\n",
       "    <tr>\n",
       "      <th>30</th>\n",
       "      <td>1</td>\n",
       "      <td>2</td>\n",
       "      <td>1</td>\n",
       "    </tr>\n",
       "    <tr>\n",
       "      <th>31</th>\n",
       "      <td>2</td>\n",
       "      <td>1</td>\n",
       "      <td>2</td>\n",
       "    </tr>\n",
       "    <tr>\n",
       "      <th>32</th>\n",
       "      <td>2</td>\n",
       "      <td>1</td>\n",
       "      <td>0</td>\n",
       "    </tr>\n",
       "    <tr>\n",
       "      <th>33</th>\n",
       "      <td>0</td>\n",
       "      <td>2</td>\n",
       "      <td>1</td>\n",
       "    </tr>\n",
       "    <tr>\n",
       "      <th>34</th>\n",
       "      <td>3</td>\n",
       "      <td>1</td>\n",
       "      <td>0</td>\n",
       "    </tr>\n",
       "    <tr>\n",
       "      <th>35</th>\n",
       "      <td>2</td>\n",
       "      <td>1</td>\n",
       "      <td>1</td>\n",
       "    </tr>\n",
       "    <tr>\n",
       "      <th>36</th>\n",
       "      <td>2</td>\n",
       "      <td>2</td>\n",
       "      <td>1</td>\n",
       "    </tr>\n",
       "    <tr>\n",
       "      <th>37</th>\n",
       "      <td>0</td>\n",
       "      <td>1</td>\n",
       "      <td>2</td>\n",
       "    </tr>\n",
       "    <tr>\n",
       "      <th>38</th>\n",
       "      <td>3</td>\n",
       "      <td>2</td>\n",
       "      <td>4</td>\n",
       "    </tr>\n",
       "  </tbody>\n",
       "</table>\n",
       "</div>"
      ],
      "text/plain": [
       "    Idade  Sexo  Produto\n",
       "0       0     0        0\n",
       "1       1     1        1\n",
       "2       2     2        2\n",
       "3       0     1        0\n",
       "4       3     1        3\n",
       "5       2     2        1\n",
       "6       2     3        0\n",
       "7       3     1        0\n",
       "8       2     1        2\n",
       "9       1     1        1\n",
       "10      4     2        2\n",
       "11      4     1        0\n",
       "12      1     2        2\n",
       "13      0     2        1\n",
       "14      2     2        0\n",
       "15      0     2        2\n",
       "16      2     0        1\n",
       "17      2     2        0\n",
       "18      0     0        0\n",
       "19      3     3        2\n",
       "20      0     1        2\n",
       "21      2     2        0\n",
       "22      5     2        1\n",
       "23      3     0        1\n",
       "24      0     1        0\n",
       "25      0     2        2\n",
       "26      3     1        2\n",
       "27      1     3        1\n",
       "28      2     0        0\n",
       "29      0     1        1\n",
       "30      1     2        1\n",
       "31      2     1        2\n",
       "32      2     1        0\n",
       "33      0     2        1\n",
       "34      3     1        0\n",
       "35      2     1        1\n",
       "36      2     2        1\n",
       "37      0     1        2\n",
       "38      3     2        4"
      ]
     },
     "execution_count": 26,
     "metadata": {},
     "output_type": "execute_result"
    }
   ],
   "source": [
    "# Retirando a label de saida\n",
    "df_factorized_dropped = df_factorized.iloc[:,:-1]\n",
    "df_factorized_dropped"
   ]
  },
  {
   "cell_type": "code",
   "execution_count": 27,
   "metadata": {
    "colab": {
     "base_uri": "https://localhost:8080/",
     "height": 68
    },
    "colab_type": "code",
    "id": "k8vrcXV9fBlT",
    "outputId": "f16a23e8-cd59-40b7-bc76-b3f83ee2c0cf"
   },
   "outputs": [
    {
     "data": {
      "text/plain": [
       "KMeans(n_init=100, random_state=0)"
      ]
     },
     "execution_count": 27,
     "metadata": {},
     "output_type": "execute_result"
    }
   ],
   "source": [
    "km = KMeans(n_clusters = n_clusters_obtained, n_init=100, random_state=0)\n",
    "km.fit(df_factorized_dropped)"
   ]
  },
  {
   "cell_type": "code",
   "execution_count": 28,
   "metadata": {
    "colab": {
     "base_uri": "https://localhost:8080/",
     "height": 153
    },
    "colab_type": "code",
    "id": "GUVJmUVIfTHF",
    "outputId": "aae95763-48a8-4fbc-eca0-203e2b67fc5f"
   },
   "outputs": [
    {
     "name": "stdout",
     "output_type": "stream",
     "text": [
      "[[3.63636364e-01 1.54545455e+00 1.45454545e+00]\n",
      " [3.00000000e+00 1.00000000e+00 0.00000000e+00]\n",
      " [4.00000000e+00 2.33333333e+00 1.66666667e+00]\n",
      " [1.85714286e+00 2.28571429e+00 4.28571429e-01]\n",
      " [2.20000000e+00 1.20000000e+00 1.80000000e+00]\n",
      " [0.00000000e+00 5.00000000e-01 0.00000000e+00]\n",
      " [3.00000000e+00 1.50000000e+00 3.50000000e+00]\n",
      " [2.33333333e+00 2.22044605e-16 6.66666667e-01]]\n"
     ]
    }
   ],
   "source": [
    "print(km.cluster_centers_)"
   ]
  },
  {
   "cell_type": "code",
   "execution_count": 29,
   "metadata": {
    "colab": {
     "base_uri": "https://localhost:8080/",
     "height": 34
    },
    "colab_type": "code",
    "id": "UzalbQ2HfcGG",
    "outputId": "c22a4b2f-2dec-4962-a891-e2411ce39a69"
   },
   "outputs": [
    {
     "name": "stdout",
     "output_type": "stream",
     "text": [
      "[0 1 2 3 4 5 6 7]\n"
     ]
    }
   ],
   "source": [
    "print(np.unique(km.labels_))"
   ]
  },
  {
   "cell_type": "code",
   "execution_count": 30,
   "metadata": {
    "colab": {
     "base_uri": "https://localhost:8080/",
     "height": 34
    },
    "colab_type": "code",
    "id": "LqTmti6tfg69",
    "outputId": "962880a0-b90d-40a8-d431-a9719f28229a"
   },
   "outputs": [
    {
     "data": {
      "text/plain": [
       "39"
      ]
     },
     "execution_count": 30,
     "metadata": {},
     "output_type": "execute_result"
    }
   ],
   "source": [
    "len(km.labels_)"
   ]
  },
  {
   "cell_type": "markdown",
   "metadata": {
    "colab_type": "text",
    "id": "ILs_D_JuYjy9"
   },
   "source": [
    "## Relacionamento entre os grupos e as posições"
   ]
  },
  {
   "cell_type": "code",
   "execution_count": 31,
   "metadata": {
    "colab": {},
    "colab_type": "code",
    "id": "LalLiyqhgf7C"
   },
   "outputs": [],
   "source": [
    "groups = km.labels_\n",
    "position = range(len(groups))\n",
    "compar = []\n",
    "for i in range(0, len(position)):\n",
    "  elem = tuple((position[i], groups[i]))\n",
    "  compar.append(elem)"
   ]
  },
  {
   "cell_type": "code",
   "execution_count": 32,
   "metadata": {
    "colab": {},
    "colab_type": "code",
    "id": "PP7d5acg4_77"
   },
   "outputs": [],
   "source": [
    "df['Grupo gerado por Kmean'] = groups"
   ]
  },
  {
   "cell_type": "code",
   "execution_count": 33,
   "metadata": {},
   "outputs": [
    {
     "data": {
      "text/html": [
       "<div>\n",
       "<style scoped>\n",
       "    .dataframe tbody tr th:only-of-type {\n",
       "        vertical-align: middle;\n",
       "    }\n",
       "\n",
       "    .dataframe tbody tr th {\n",
       "        vertical-align: top;\n",
       "    }\n",
       "\n",
       "    .dataframe thead th {\n",
       "        text-align: right;\n",
       "    }\n",
       "</style>\n",
       "<table border=\"1\" class=\"dataframe\">\n",
       "  <thead>\n",
       "    <tr style=\"text-align: right;\">\n",
       "      <th></th>\n",
       "      <th>Idade</th>\n",
       "      <th>Sexo</th>\n",
       "      <th>Produto</th>\n",
       "      <th>Acompanhamento</th>\n",
       "      <th>Grupo gerado por Kmean</th>\n",
       "    </tr>\n",
       "  </thead>\n",
       "  <tbody>\n",
       "    <tr>\n",
       "      <th>0</th>\n",
       "      <td>22 anos</td>\n",
       "      <td>Feminino</td>\n",
       "      <td>Pizza</td>\n",
       "      <td>Baré</td>\n",
       "      <td>5</td>\n",
       "    </tr>\n",
       "    <tr>\n",
       "      <th>1</th>\n",
       "      <td>32 anos</td>\n",
       "      <td>Feminino</td>\n",
       "      <td>Hambúrguer</td>\n",
       "      <td>Coca-cola</td>\n",
       "      <td>0</td>\n",
       "    </tr>\n",
       "    <tr>\n",
       "      <th>2</th>\n",
       "      <td>18 anos</td>\n",
       "      <td>Masculino</td>\n",
       "      <td>Pastel</td>\n",
       "      <td>São Geraldo</td>\n",
       "      <td>4</td>\n",
       "    </tr>\n",
       "    <tr>\n",
       "      <th>3</th>\n",
       "      <td>22 anos</td>\n",
       "      <td>Feminino</td>\n",
       "      <td>Pizza</td>\n",
       "      <td>Baré</td>\n",
       "      <td>5</td>\n",
       "    </tr>\n",
       "    <tr>\n",
       "      <th>4</th>\n",
       "      <td>32 anos</td>\n",
       "      <td>Feminino</td>\n",
       "      <td>Hambúrguer</td>\n",
       "      <td>São Geraldo</td>\n",
       "      <td>6</td>\n",
       "    </tr>\n",
       "    <tr>\n",
       "      <th>5</th>\n",
       "      <td>18 anos</td>\n",
       "      <td>Masculino</td>\n",
       "      <td>Hambúrguer</td>\n",
       "      <td>Coca-cola</td>\n",
       "      <td>3</td>\n",
       "    </tr>\n",
       "    <tr>\n",
       "      <th>6</th>\n",
       "      <td>18 anos</td>\n",
       "      <td>Masculino</td>\n",
       "      <td>Pizza</td>\n",
       "      <td>São Geraldo</td>\n",
       "      <td>3</td>\n",
       "    </tr>\n",
       "    <tr>\n",
       "      <th>7</th>\n",
       "      <td>32 anos</td>\n",
       "      <td>Feminino</td>\n",
       "      <td>Pizza</td>\n",
       "      <td>Coca-cola</td>\n",
       "      <td>1</td>\n",
       "    </tr>\n",
       "    <tr>\n",
       "      <th>8</th>\n",
       "      <td>18 anos</td>\n",
       "      <td>Feminino</td>\n",
       "      <td>Pastel</td>\n",
       "      <td>São Geraldo</td>\n",
       "      <td>4</td>\n",
       "    </tr>\n",
       "    <tr>\n",
       "      <th>9</th>\n",
       "      <td>32 anos</td>\n",
       "      <td>Feminino</td>\n",
       "      <td>Hambúrguer</td>\n",
       "      <td>Baré</td>\n",
       "      <td>0</td>\n",
       "    </tr>\n",
       "    <tr>\n",
       "      <th>10</th>\n",
       "      <td>22 anos</td>\n",
       "      <td>Masculino</td>\n",
       "      <td>Pastel</td>\n",
       "      <td>São Geraldo</td>\n",
       "      <td>2</td>\n",
       "    </tr>\n",
       "    <tr>\n",
       "      <th>11</th>\n",
       "      <td>22 anos</td>\n",
       "      <td>Feminino</td>\n",
       "      <td>Pizza</td>\n",
       "      <td>Baré</td>\n",
       "      <td>1</td>\n",
       "    </tr>\n",
       "    <tr>\n",
       "      <th>12</th>\n",
       "      <td>32 anos</td>\n",
       "      <td>Masculino</td>\n",
       "      <td>Pastel</td>\n",
       "      <td>Baré</td>\n",
       "      <td>0</td>\n",
       "    </tr>\n",
       "    <tr>\n",
       "      <th>13</th>\n",
       "      <td>22 anos</td>\n",
       "      <td>Masculino</td>\n",
       "      <td>Hambúrguer</td>\n",
       "      <td>São Geraldo</td>\n",
       "      <td>0</td>\n",
       "    </tr>\n",
       "    <tr>\n",
       "      <th>14</th>\n",
       "      <td>18 anos</td>\n",
       "      <td>Masculino</td>\n",
       "      <td>Pizza</td>\n",
       "      <td>Coca-cola</td>\n",
       "      <td>3</td>\n",
       "    </tr>\n",
       "    <tr>\n",
       "      <th>15</th>\n",
       "      <td>22 anos</td>\n",
       "      <td>Masculino</td>\n",
       "      <td>Pastel</td>\n",
       "      <td>São Geraldo</td>\n",
       "      <td>0</td>\n",
       "    </tr>\n",
       "    <tr>\n",
       "      <th>16</th>\n",
       "      <td>18 anos</td>\n",
       "      <td>Feminino</td>\n",
       "      <td>Hambúrguer</td>\n",
       "      <td>Coca-cola</td>\n",
       "      <td>7</td>\n",
       "    </tr>\n",
       "    <tr>\n",
       "      <th>17</th>\n",
       "      <td>18 anos</td>\n",
       "      <td>Masculino</td>\n",
       "      <td>Pizza</td>\n",
       "      <td>São Geraldo</td>\n",
       "      <td>3</td>\n",
       "    </tr>\n",
       "    <tr>\n",
       "      <th>18</th>\n",
       "      <td>22 anos</td>\n",
       "      <td>Feminino</td>\n",
       "      <td>Pizza</td>\n",
       "      <td>Baré</td>\n",
       "      <td>5</td>\n",
       "    </tr>\n",
       "    <tr>\n",
       "      <th>19</th>\n",
       "      <td>32 anos</td>\n",
       "      <td>Masculino</td>\n",
       "      <td>Pastel</td>\n",
       "      <td>Baré</td>\n",
       "      <td>2</td>\n",
       "    </tr>\n",
       "    <tr>\n",
       "      <th>20</th>\n",
       "      <td>22 anos</td>\n",
       "      <td>Feminino</td>\n",
       "      <td>Pastel</td>\n",
       "      <td>Coca-cola</td>\n",
       "      <td>0</td>\n",
       "    </tr>\n",
       "    <tr>\n",
       "      <th>21</th>\n",
       "      <td>18 anos</td>\n",
       "      <td>Masculino</td>\n",
       "      <td>Pizza</td>\n",
       "      <td>São Geraldo</td>\n",
       "      <td>3</td>\n",
       "    </tr>\n",
       "    <tr>\n",
       "      <th>22</th>\n",
       "      <td>18 anos</td>\n",
       "      <td>Masculino</td>\n",
       "      <td>Hambúrguer</td>\n",
       "      <td>Baré</td>\n",
       "      <td>2</td>\n",
       "    </tr>\n",
       "    <tr>\n",
       "      <th>23</th>\n",
       "      <td>32 anos</td>\n",
       "      <td>Feminino</td>\n",
       "      <td>Hambúrguer</td>\n",
       "      <td>São Geraldo</td>\n",
       "      <td>7</td>\n",
       "    </tr>\n",
       "    <tr>\n",
       "      <th>24</th>\n",
       "      <td>22 anos</td>\n",
       "      <td>Feminino</td>\n",
       "      <td>Pizza</td>\n",
       "      <td>Coca-cola</td>\n",
       "      <td>5</td>\n",
       "    </tr>\n",
       "    <tr>\n",
       "      <th>25</th>\n",
       "      <td>22 anos</td>\n",
       "      <td>Masculino</td>\n",
       "      <td>Pastel</td>\n",
       "      <td>São Geraldo</td>\n",
       "      <td>0</td>\n",
       "    </tr>\n",
       "    <tr>\n",
       "      <th>26</th>\n",
       "      <td>32 anos</td>\n",
       "      <td>Feminino</td>\n",
       "      <td>Pastel</td>\n",
       "      <td>Coca-cola</td>\n",
       "      <td>4</td>\n",
       "    </tr>\n",
       "    <tr>\n",
       "      <th>27</th>\n",
       "      <td>32 anos</td>\n",
       "      <td>Masculino</td>\n",
       "      <td>Hambúrguer</td>\n",
       "      <td>São Geraldo</td>\n",
       "      <td>3</td>\n",
       "    </tr>\n",
       "    <tr>\n",
       "      <th>28</th>\n",
       "      <td>18 anos</td>\n",
       "      <td>Feminino</td>\n",
       "      <td>Pizza</td>\n",
       "      <td>Coca-cola</td>\n",
       "      <td>7</td>\n",
       "    </tr>\n",
       "    <tr>\n",
       "      <th>29</th>\n",
       "      <td>22 anos</td>\n",
       "      <td>Feminino</td>\n",
       "      <td>Hambúrguer</td>\n",
       "      <td>Baré</td>\n",
       "      <td>0</td>\n",
       "    </tr>\n",
       "    <tr>\n",
       "      <th>30</th>\n",
       "      <td>32 anos</td>\n",
       "      <td>Masculino</td>\n",
       "      <td>Hambúrguer</td>\n",
       "      <td>Coca-cola</td>\n",
       "      <td>0</td>\n",
       "    </tr>\n",
       "    <tr>\n",
       "      <th>31</th>\n",
       "      <td>18 anos</td>\n",
       "      <td>Feminino</td>\n",
       "      <td>Pastel</td>\n",
       "      <td>Baré</td>\n",
       "      <td>4</td>\n",
       "    </tr>\n",
       "    <tr>\n",
       "      <th>32</th>\n",
       "      <td>18 anos</td>\n",
       "      <td>Feminino</td>\n",
       "      <td>Pizza</td>\n",
       "      <td>Baré</td>\n",
       "      <td>1</td>\n",
       "    </tr>\n",
       "    <tr>\n",
       "      <th>33</th>\n",
       "      <td>22 anos</td>\n",
       "      <td>Masculino</td>\n",
       "      <td>Hambúrguer</td>\n",
       "      <td>São Geraldo</td>\n",
       "      <td>0</td>\n",
       "    </tr>\n",
       "    <tr>\n",
       "      <th>34</th>\n",
       "      <td>32 anos</td>\n",
       "      <td>Feminino</td>\n",
       "      <td>Pizza</td>\n",
       "      <td>Baré</td>\n",
       "      <td>1</td>\n",
       "    </tr>\n",
       "    <tr>\n",
       "      <th>35</th>\n",
       "      <td>18 anos</td>\n",
       "      <td>Feminino</td>\n",
       "      <td>Hambúrguer</td>\n",
       "      <td>Coca-cola</td>\n",
       "      <td>4</td>\n",
       "    </tr>\n",
       "    <tr>\n",
       "      <th>36</th>\n",
       "      <td>18 anos</td>\n",
       "      <td>Masculino</td>\n",
       "      <td>Hambúrguer</td>\n",
       "      <td>Coca-cola</td>\n",
       "      <td>3</td>\n",
       "    </tr>\n",
       "    <tr>\n",
       "      <th>37</th>\n",
       "      <td>22 anos</td>\n",
       "      <td>Feminino</td>\n",
       "      <td>Pastel</td>\n",
       "      <td>São Geraldo</td>\n",
       "      <td>0</td>\n",
       "    </tr>\n",
       "    <tr>\n",
       "      <th>38</th>\n",
       "      <td>32 anos</td>\n",
       "      <td>Masculino</td>\n",
       "      <td>pastel</td>\n",
       "      <td>Baré</td>\n",
       "      <td>6</td>\n",
       "    </tr>\n",
       "  </tbody>\n",
       "</table>\n",
       "</div>"
      ],
      "text/plain": [
       "       Idade        Sexo      Produto Acompanhamento  Grupo gerado por Kmean\n",
       "0    22 anos   Feminino         Pizza           Baré                       5\n",
       "1   32 anos     Feminino  Hambúrguer       Coca-cola                       0\n",
       "2    18 anos   Masculino       Pastel    São Geraldo                       4\n",
       "3    22 anos    Feminino        Pizza           Baré                       5\n",
       "4    32 anos    Feminino   Hambúrguer    São Geraldo                       6\n",
       "5    18 anos   Masculino  Hambúrguer       Coca-cola                       3\n",
       "6    18 anos  Masculino         Pizza    São Geraldo                       3\n",
       "7    32 anos    Feminino        Pizza      Coca-cola                       1\n",
       "8    18 anos    Feminino       Pastel    São Geraldo                       4\n",
       "9   32 anos     Feminino  Hambúrguer            Baré                       0\n",
       "10  22 anos    Masculino       Pastel    São Geraldo                       2\n",
       "11  22 anos     Feminino        Pizza           Baré                       1\n",
       "12  32 anos    Masculino       Pastel           Baré                       0\n",
       "13   22 anos   Masculino  Hambúrguer     São Geraldo                       0\n",
       "14   18 anos   Masculino        Pizza      Coca-cola                       3\n",
       "15   22 anos   Masculino       Pastel    São Geraldo                       0\n",
       "16   18 anos   Feminino   Hambúrguer       Coca-cola                       7\n",
       "17   18 anos   Masculino        Pizza    São Geraldo                       3\n",
       "18   22 anos   Feminino         Pizza           Baré                       5\n",
       "19   32 anos  Masculino        Pastel           Baré                       2\n",
       "20   22 anos    Feminino       Pastel      Coca-cola                       0\n",
       "21   18 anos   Masculino        Pizza    São Geraldo                       3\n",
       "22  18 anos    Masculino  Hambúrguer            Baré                       2\n",
       "23   32 anos   Feminino   Hambúrguer     São Geraldo                       7\n",
       "24   22 anos    Feminino        Pizza      Coca-cola                       5\n",
       "25   22 anos   Masculino       Pastel    São Geraldo                       0\n",
       "26   32 anos    Feminino       Pastel      Coca-cola                       4\n",
       "27  32 anos   Masculino   Hambúrguer     São Geraldo                       3\n",
       "28   18 anos   Feminino         Pizza      Coca-cola                       7\n",
       "29   22 anos    Feminino  Hambúrguer            Baré                       0\n",
       "30  32 anos    Masculino  Hambúrguer       Coca-cola                       0\n",
       "31   18 anos    Feminino       Pastel           Baré                       4\n",
       "32   18 anos    Feminino        Pizza           Baré                       1\n",
       "33   22 anos   Masculino  Hambúrguer     São Geraldo                       0\n",
       "34   32 anos    Feminino        Pizza           Baré                       1\n",
       "35   18 anos    Feminino  Hambúrguer       Coca-cola                       4\n",
       "36   18 anos   Masculino  Hambúrguer       Coca-cola                       3\n",
       "37   22 anos    Feminino       Pastel    São Geraldo                       0\n",
       "38   32 anos   Masculino       pastel           Baré                       6"
      ]
     },
     "execution_count": 33,
     "metadata": {},
     "output_type": "execute_result"
    }
   ],
   "source": [
    "df"
   ]
  },
  {
   "cell_type": "code",
   "execution_count": 34,
   "metadata": {
    "colab": {},
    "colab_type": "code",
    "id": "71026zw1w6eM"
   },
   "outputs": [],
   "source": [
    "df.to_excel('table_Preclassified.xlsx', index = False)\n",
    "import pickle\n",
    "with open('Kmean.sav','wb') as file:\n",
    "    pickle.dump(km,file)"
   ]
  },
  {
   "cell_type": "code",
   "execution_count": null,
   "metadata": {},
   "outputs": [],
   "source": []
  }
 ],
 "metadata": {
  "colab": {
   "collapsed_sections": [],
   "name": "Hackathon.ipynb",
   "provenance": [],
   "toc_visible": true
  },
  "kernelspec": {
   "display_name": "Python 3.8.2 64-bit ('GhportStructure': conda)",
   "language": "python",
   "name": "python38264bitghportstructureconda72c34c68bd784921adb8c3fa462f33c8"
  },
  "language_info": {
   "codemirror_mode": {
    "name": "ipython",
    "version": 3
   },
   "file_extension": ".py",
   "mimetype": "text/x-python",
   "name": "python",
   "nbconvert_exporter": "python",
   "pygments_lexer": "ipython3",
   "version": "3.8.2"
  }
 },
 "nbformat": 4,
 "nbformat_minor": 1
}
